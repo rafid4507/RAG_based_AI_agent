{
 "cells": [
  {
   "cell_type": "code",
   "execution_count": 1,
   "metadata": {},
   "outputs": [
    {
     "data": {
      "text/plain": [
       "True"
      ]
     },
     "execution_count": 1,
     "metadata": {},
     "output_type": "execute_result"
    }
   ],
   "source": [
    "import os\n",
    "from dotenv import load_dotenv\n",
    "load_dotenv()"
   ]
  },
  {
   "cell_type": "code",
   "execution_count": 2,
   "metadata": {},
   "outputs": [],
   "source": [
    "os.environ[\"OPENAI_API_KEY\"]=os.getenv(\"OPENAI_API_KEY\")\n",
    "\n",
    "## Langsmith Tracking and tracing\n",
    "\n",
    "os.environ[\"LANGCHAIN_API_KEY\"]=os.getenv(\"LANGCHAIN_API_KEY\")\n",
    "os.environ[\"LANGCHAIN_TRACING_V2\"]=\"true\"\n",
    "os.environ[\"LANGCHAIN_PROJECT\"]=os.getenv(\"LANGCHAIN_PROJECT\")"
   ]
  },
  {
   "cell_type": "code",
   "execution_count": null,
   "metadata": {},
   "outputs": [
    {
     "name": "stdout",
     "output_type": "stream",
     "text": [
      "client=<openai.resources.chat.completions.Completions object at 0x000002510F21F200> async_client=<openai.resources.chat.completions.AsyncCompletions object at 0x000002510F256D20> root_client=<openai.OpenAI object at 0x000002510EE08110> root_async_client=<openai.AsyncOpenAI object at 0x000002510F2550A0> model_name='o1-mini' temperature=1.0 model_kwargs={} openai_api_key=SecretStr('**********')\n"
     ]
    }
   ],
   "source": [
    "from langchain_openai import ChatOpenAI\n",
    "\n",
    "llm=ChatOpenAI(model=\"o1-mini\")"
   ]
  },
  {
   "cell_type": "code",
   "execution_count": null,
   "metadata": {},
   "outputs": [
    {
     "name": "stdout",
     "output_type": "stream",
     "text": [
      "content=\"**Agentic AI** refers to artificial intelligence systems designed to operate as autonomous agents capable of making independent decisions, taking actions, and pursuing defined goals within an environment. The concept emphasizes the AI's ability to exhibit agency—the capacity to act intentionally and adaptively—much like a human or other autonomous entity would.\\n\\n### Key Characteristics of Agentic AI\\n\\n1. **Autonomy**: Agentic AI systems can operate without continuous human oversight, making decisions based on their programming, learning, and interactions with the environment.\\n\\n2. **Goal-Oriented Behavior**: These systems are designed with specific objectives and can plan and execute actions to achieve these goals.\\n\\n3. **Adaptability and Learning**: Agentic AI can learn from experiences, adapt to new situations, and improve performance over time through techniques like machine learning.\\n\\n4. **Perception and Interaction**: They can perceive their environment through sensors (e.g., cameras, microphones) and interact with it using actuators or interfaces, enabling dynamic responses to changing conditions.\\n\\n5. **Decision-Making**: Equipped with algorithms that allow for evaluating options, predicting outcomes, and making choices that align with their objectives.\\n\\n### Examples of Agentic AI\\n\\n- **Autonomous Vehicles**: Self-driving cars navigate roads, make real-time decisions, and adjust to traffic conditions without human intervention.\\n  \\n- **Robotic Assistants**: Robots in manufacturing or healthcare that perform tasks, respond to changes, and interact with humans effectively.\\n  \\n- **Virtual Personal Assistants**: AI like Siri or Alexa that can manage schedules, control smart devices, and provide information proactively based on user preferences and behaviors.\\n\\n- **Autonomous Drones**: Used in areas such as delivery, surveillance, or agriculture, these drones can navigate environments, avoid obstacles, and complete missions with minimal human guidance.\\n\\n### Distinction from Other AI Concepts\\n\\nWhile traditional AI systems might perform specific tasks based on predefined rules or respond to explicit commands, agentic AI embodies a higher level of independence and proactive behavior. Unlike narrow AI, which is limited to particular applications, agentic AI involves a broader scope of actions and decision-making processes aimed at achieving set objectives in varied and potentially unforeseen scenarios.\\n\\n### Applications of Agentic AI\\n\\n- **Healthcare**: Autonomous diagnostic systems that can analyze medical data, recommend treatments, and monitor patient progress with minimal human intervention.\\n  \\n- **Finance**: Automated trading systems that execute trades, manage portfolios, and respond to market changes autonomously.\\n  \\n- **Smart Homes and Cities**: Systems that manage energy use, security, transportation, and other infrastructure elements dynamically to optimize efficiency and quality of life.\\n\\n- **Customer Service**: Advanced chatbots and virtual agents that handle inquiries, resolve issues, and provide personalized support independently.\\n\\n### Ethical and Societal Considerations\\n\\nThe deployment of agentic AI raises several ethical and societal issues:\\n\\n- **Accountability**: Determining responsibility for the actions and decisions made by autonomous agents.\\n  \\n- **Bias and Fairness**: Ensuring that agentic AI systems do not perpetuate or exacerbate existing biases in their decision-making processes.\\n  \\n- **Transparency**: Making AI decision-making processes understandable to users and stakeholders.\\n  \\n- **Privacy**: Managing the data gathered and used by autonomous agents to protect individual privacy rights.\\n  \\n- **Safety and Security**: Ensuring that agentic AI systems operate reliably and are protected against malicious attacks or unintended behaviors.\\n\\n### Future Directions\\n\\nAs AI technology advances, agentic AI is expected to become increasingly sophisticated, with enhanced capabilities for reasoning, emotional intelligence, and ethical decision-making. Research is focused on creating more robust frameworks for ensuring that autonomous agents act in ways that are beneficial, transparent, and aligned with human values. Integration with other emerging technologies, such as the Internet of Things (IoT) and advanced robotics, will likely expand the applications and impact of agentic AI across various sectors.\\n\\n### Conclusion\\n\\nAgentic AI represents a significant evolution in artificial intelligence, emphasizing autonomy, intentionality, and goal-directed behavior. While it offers numerous benefits across diverse applications, it also necessitates careful consideration of ethical, legal, and societal implications to ensure that its development and deployment contribute positively to human welfare and societal advancement.\" additional_kwargs={'refusal': None} response_metadata={'token_usage': {'completion_tokens': 992, 'prompt_tokens': 13, 'total_tokens': 1005, 'completion_tokens_details': {'accepted_prediction_tokens': 0, 'audio_tokens': 0, 'reasoning_tokens': 128, 'rejected_prediction_tokens': 0}, 'prompt_tokens_details': {'audio_tokens': 0, 'cached_tokens': 0}}, 'model_name': 'o1-mini-2024-09-12', 'system_fingerprint': 'fp_f56e40de61', 'finish_reason': 'stop', 'logprobs': None} id='run-03816454-7e8a-4439-a930-802ee9672787-0' usage_metadata={'input_tokens': 13, 'output_tokens': 992, 'total_tokens': 1005, 'input_token_details': {'audio': 0, 'cache_read': 0}, 'output_token_details': {'audio': 0, 'reasoning': 128}}\n"
     ]
    }
   ],
   "source": [
    "result=llm.invoke(\"What is agentic AI\")"
   ]
  },
  {
   "cell_type": "code",
   "execution_count": 5,
   "metadata": {},
   "outputs": [
    {
     "name": "stdout",
     "output_type": "stream",
     "text": [
      "**Agentic AI** refers to artificial intelligence systems designed to operate as autonomous agents capable of making independent decisions, taking actions, and pursuing defined goals within an environment. The concept emphasizes the AI's ability to exhibit agency—the capacity to act intentionally and adaptively—much like a human or other autonomous entity would.\n",
      "\n",
      "### Key Characteristics of Agentic AI\n",
      "\n",
      "1. **Autonomy**: Agentic AI systems can operate without continuous human oversight, making decisions based on their programming, learning, and interactions with the environment.\n",
      "\n",
      "2. **Goal-Oriented Behavior**: These systems are designed with specific objectives and can plan and execute actions to achieve these goals.\n",
      "\n",
      "3. **Adaptability and Learning**: Agentic AI can learn from experiences, adapt to new situations, and improve performance over time through techniques like machine learning.\n",
      "\n",
      "4. **Perception and Interaction**: They can perceive their environment through sensors (e.g., cameras, microphones) and interact with it using actuators or interfaces, enabling dynamic responses to changing conditions.\n",
      "\n",
      "5. **Decision-Making**: Equipped with algorithms that allow for evaluating options, predicting outcomes, and making choices that align with their objectives.\n",
      "\n",
      "### Examples of Agentic AI\n",
      "\n",
      "- **Autonomous Vehicles**: Self-driving cars navigate roads, make real-time decisions, and adjust to traffic conditions without human intervention.\n",
      "  \n",
      "- **Robotic Assistants**: Robots in manufacturing or healthcare that perform tasks, respond to changes, and interact with humans effectively.\n",
      "  \n",
      "- **Virtual Personal Assistants**: AI like Siri or Alexa that can manage schedules, control smart devices, and provide information proactively based on user preferences and behaviors.\n",
      "\n",
      "- **Autonomous Drones**: Used in areas such as delivery, surveillance, or agriculture, these drones can navigate environments, avoid obstacles, and complete missions with minimal human guidance.\n",
      "\n",
      "### Distinction from Other AI Concepts\n",
      "\n",
      "While traditional AI systems might perform specific tasks based on predefined rules or respond to explicit commands, agentic AI embodies a higher level of independence and proactive behavior. Unlike narrow AI, which is limited to particular applications, agentic AI involves a broader scope of actions and decision-making processes aimed at achieving set objectives in varied and potentially unforeseen scenarios.\n",
      "\n",
      "### Applications of Agentic AI\n",
      "\n",
      "- **Healthcare**: Autonomous diagnostic systems that can analyze medical data, recommend treatments, and monitor patient progress with minimal human intervention.\n",
      "  \n",
      "- **Finance**: Automated trading systems that execute trades, manage portfolios, and respond to market changes autonomously.\n",
      "  \n",
      "- **Smart Homes and Cities**: Systems that manage energy use, security, transportation, and other infrastructure elements dynamically to optimize efficiency and quality of life.\n",
      "\n",
      "- **Customer Service**: Advanced chatbots and virtual agents that handle inquiries, resolve issues, and provide personalized support independently.\n",
      "\n",
      "### Ethical and Societal Considerations\n",
      "\n",
      "The deployment of agentic AI raises several ethical and societal issues:\n",
      "\n",
      "- **Accountability**: Determining responsibility for the actions and decisions made by autonomous agents.\n",
      "  \n",
      "- **Bias and Fairness**: Ensuring that agentic AI systems do not perpetuate or exacerbate existing biases in their decision-making processes.\n",
      "  \n",
      "- **Transparency**: Making AI decision-making processes understandable to users and stakeholders.\n",
      "  \n",
      "- **Privacy**: Managing the data gathered and used by autonomous agents to protect individual privacy rights.\n",
      "  \n",
      "- **Safety and Security**: Ensuring that agentic AI systems operate reliably and are protected against malicious attacks or unintended behaviors.\n",
      "\n",
      "### Future Directions\n",
      "\n",
      "As AI technology advances, agentic AI is expected to become increasingly sophisticated, with enhanced capabilities for reasoning, emotional intelligence, and ethical decision-making. Research is focused on creating more robust frameworks for ensuring that autonomous agents act in ways that are beneficial, transparent, and aligned with human values. Integration with other emerging technologies, such as the Internet of Things (IoT) and advanced robotics, will likely expand the applications and impact of agentic AI across various sectors.\n",
      "\n",
      "### Conclusion\n",
      "\n",
      "Agentic AI represents a significant evolution in artificial intelligence, emphasizing autonomy, intentionality, and goal-directed behavior. While it offers numerous benefits across diverse applications, it also necessitates careful consideration of ethical, legal, and societal implications to ensure that its development and deployment contribute positively to human welfare and societal advancement.\n"
     ]
    }
   ],
   "source": [
    "print(result.content)"
   ]
  },
  {
   "cell_type": "code",
   "execution_count": null,
   "metadata": {},
   "outputs": [],
   "source": [
    "from langchain_core.prompts import ChatPromptTemplate\n",
    "\n",
    "prompt=ChatPromptTemplate.from_messages(\n",
    "    [\n",
    "        (\"system\",\"You are an expert AI Engineer. Provide me answer based on the question\"),\n",
    "        (\"user\",\"{input}\")\n",
    "\n",
    "    ]\n",
    ")"
   ]
  },
  {
   "cell_type": "code",
   "execution_count": 6,
   "metadata": {},
   "outputs": [],
   "source": [
    "llm=ChatOpenAI(model=\"gpt-4o\")"
   ]
  },
  {
   "cell_type": "code",
   "execution_count": null,
   "metadata": {},
   "outputs": [],
   "source": [
    "chain=prompt|llm \n",
    "\n",
    "response=chain.invoke({\"input\":\"Can you tell me about Langsmith\"})"
   ]
  },
  {
   "cell_type": "code",
   "execution_count": null,
   "metadata": {},
   "outputs": [],
   "source": [
    "print(response.content)"
   ]
  },
  {
   "cell_type": "code",
   "execution_count": null,
   "metadata": {},
   "outputs": [],
   "source": [
    "from langchain_core.output_parsers import StrOutputParser\n",
    "output_parser=StrOutputParser()\n",
    "\n",
    "chain=prompt|llm|output_parser\n",
    "\n",
    "response=chain.invoke({\"input\":\"Can you tell me about Langsmith?\"})\n",
    "print(response)"
   ]
  },
  {
   "cell_type": "code",
   "execution_count": 27,
   "metadata": {},
   "outputs": [],
   "source": [
    "from langchain_core.prompts import PromptTemplate\n",
    "from langchain_core.output_parsers import JsonOutputParser\n",
    "\n",
    "\n",
    "output_parser=JsonOutputParser()\n",
    "prompt = PromptTemplate(\n",
    "    template=\"Answer the user query.\\n{format_instructions}\\n{query}\\n\",\n",
    "    input_variables=[\"query\"],\n",
    "    partial_variables={\"format_instructions\": output_parser.get_format_instructions()},\n",
    ")\n"
   ]
  },
  {
   "cell_type": "code",
   "execution_count": null,
   "metadata": {},
   "outputs": [],
   "source": [
    "chain=prompt|llm|output_parser\n",
    "\n",
    "response=chain.invoke({\"query\":\"Can you tell me about Langsmith?\"})\n",
    "print(response)"
   ]
  },
  {
   "cell_type": "markdown",
   "metadata": {},
   "source": [
    "### RAG"
   ]
  },
  {
   "cell_type": "code",
   "execution_count": 30,
   "metadata": {},
   "outputs": [],
   "source": [
    "from langchain_community.document_loaders import WebBaseLoader"
   ]
  },
  {
   "cell_type": "code",
   "execution_count": null,
   "metadata": {},
   "outputs": [],
   "source": [
    "loader=WebBaseLoader(\"https://python.langchain.com/docs/tutorials/llm_chain/\")\n",
    "loader"
   ]
  },
  {
   "cell_type": "code",
   "execution_count": null,
   "metadata": {},
   "outputs": [],
   "source": [
    "document=loader.load()\n",
    "document"
   ]
  },
  {
   "cell_type": "code",
   "execution_count": null,
   "metadata": {},
   "outputs": [],
   "source": [
    "from langchain_text_splitters import RecursiveCharacterTextSplitter\n",
    "\n",
    "text_splitter=RecursiveCharacterTextSplitter(chunk_size=1000,chunk_overlap=200)\n",
    "documents=text_splitter.split_documents(document)\n",
    "documents"
   ]
  },
  {
   "cell_type": "code",
   "execution_count": 34,
   "metadata": {},
   "outputs": [],
   "source": [
    "from langchain_openai import OpenAIEmbeddings\n",
    "embeddings=OpenAIEmbeddings()"
   ]
  },
  {
   "cell_type": "code",
   "execution_count": 35,
   "metadata": {},
   "outputs": [
    {
     "data": {
      "text/plain": [
       "<langchain_community.vectorstores.faiss.FAISS at 0x2524d037920>"
      ]
     },
     "execution_count": 35,
     "metadata": {},
     "output_type": "execute_result"
    }
   ],
   "source": [
    "from langchain_community.vectorstores import FAISS\n",
    "\n",
    "vectorstore=FAISS.from_documents(documents,embeddings)\n",
    "vectorstore"
   ]
  },
  {
   "cell_type": "code",
   "execution_count": null,
   "metadata": {},
   "outputs": [],
   "source": [
    "query=\"This is a relatively simple LLM application \"\n",
    "\n",
    "result=vectorstore.similarity_search(query)\n",
    "result[0].page_content"
   ]
  },
  {
   "cell_type": "code",
   "execution_count": 36,
   "metadata": {},
   "outputs": [],
   "source": [
    "from langchain_core.prompts import ChatPromptTemplate\n",
    "\n",
    "prompt=ChatPromptTemplate.from_template(\n",
    "    \"\"\"\n",
    "Answer the following question based only on the provided context:\n",
    "<context>\n",
    "{context}\n",
    "</context>\n",
    "\n",
    "\n",
    "\"\"\"\n",
    ")"
   ]
  },
  {
   "cell_type": "code",
   "execution_count": null,
   "metadata": {},
   "outputs": [],
   "source": [
    "prompt"
   ]
  },
  {
   "cell_type": "code",
   "execution_count": null,
   "metadata": {},
   "outputs": [],
   "source": [
    "# pip install -U langchain langchain-community\n",
    "\n",
    "from langchain_community.chat_models import ChatOpenAI\n",
    "from langchain_core.documents import Document\n",
    "from langchain_core.prompts import ChatPromptTemplate\n",
    "from langchain.chains.combine_documents import create_stuff_documents_chain\n",
    "\n",
    "prompt = ChatPromptTemplate.from_messages(\n",
    "    [(\"system\", \"What are everyone's favorite colors:\\n\\n{context}\")]\n",
    ")\n",
    "llm = ChatOpenAI(model=\"gpt-3.5-turbo\")\n",
    "chain = create_stuff_documents_chain(llm, prompt)\n",
    "\n",
    "chain"
   ]
  },
  {
   "cell_type": "code",
   "execution_count": 25,
   "metadata": {},
   "outputs": [
    {
     "data": {
      "text/plain": [
       "'\\n\\nJesse: Red\\nJamal: Green, Orange'"
      ]
     },
     "execution_count": 25,
     "metadata": {},
     "output_type": "execute_result"
    }
   ],
   "source": [
    "docs = [\n",
    "    Document(page_content=\"Jesse loves red but not yellow\"),\n",
    "    Document(page_content = \"Jamal loves green but not as much as he loves orange\")\n",
    "]\n",
    "\n",
    "chain.invoke({\"context\": docs})"
   ]
  },
  {
   "cell_type": "code",
   "execution_count": null,
   "metadata": {},
   "outputs": [],
   "source": []
  },
  {
   "cell_type": "code",
   "execution_count": null,
   "metadata": {},
   "outputs": [],
   "source": [
    "from langchain.chains.combine_documents import create_stuff_documents_chain\n",
    "document_chain=create_stuff_documents_chain(llm,prompt)"
   ]
  },
  {
   "cell_type": "code",
   "execution_count": null,
   "metadata": {},
   "outputs": [],
   "source": [
    "vectorstore.similarity_search(\"Note that ChatModels receive message objects as inpu\")"
   ]
  },
  {
   "cell_type": "code",
   "execution_count": null,
   "metadata": {},
   "outputs": [],
   "source": [
    "document_chain.invoke({\n",
    "    \"input\":\"Note that ChatModels receive message objects as input\",\n",
    "    \"context\":[Document(page_content=\"Note that ChatModels receive message objects as input and generate message objects as output. In addition to text content, message objects convey conversational roles and hold important data, such as tool calls and token usage counts.\\nLangChain also supports chat model inputs via strings or OpenAI format. The following are equivalent:\\nmodel.invoke('Hello')model.invoke([{'role': 'user', 'content': 'Hello'}])model.invoke([HumanMessage('Hello')]) StreamingBecause chat models are Runnables, they expose a standard interface that includes async and streaming modes of invocation. This allows us to stream individual tokens from a chat model:\\nfor token in model.stream(messages):    print(token.content, end='|')|C|iao|!|| You can find more details on streaming chat model outputs in this guide.\\nPrompt Templates\")]\n",
    "})"
   ]
  },
  {
   "cell_type": "code",
   "execution_count": null,
   "metadata": {},
   "outputs": [],
   "source": [
    "retriever=vectorstore.as_retriever()\n",
    "\n",
    "from langchain.chains import create_retrieval_chain\n",
    "\n",
    "retrieval_chain=create_retrieval_chain(retriever,document_chain)\n",
    "retrieval_chain"
   ]
  },
  {
   "cell_type": "code",
   "execution_count": 46,
   "metadata": {},
   "outputs": [],
   "source": [
    "result=retrieval_chain.invoke({\"input\":\"Note that ChatModels receive message objects as input\"})"
   ]
  },
  {
   "cell_type": "code",
   "execution_count": null,
   "metadata": {},
   "outputs": [],
   "source": [
    "result['answer']"
   ]
  }
 ],
 "metadata": {
  "kernelspec": {
   "display_name": "venv",
   "language": "python",
   "name": "python3"
  },
  "language_info": {
   "codemirror_mode": {
    "name": "ipython",
    "version": 3
   },
   "file_extension": ".py",
   "mimetype": "text/x-python",
   "name": "python",
   "nbconvert_exporter": "python",
   "pygments_lexer": "ipython3",
   "version": "3.13.5"
  }
 },
 "nbformat": 4,
 "nbformat_minor": 2
}
